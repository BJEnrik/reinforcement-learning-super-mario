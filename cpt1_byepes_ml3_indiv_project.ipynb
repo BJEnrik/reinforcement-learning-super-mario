{
 "cells": [
  {
   "attachments": {},
   "cell_type": "markdown",
   "id": "f723f50a",
   "metadata": {},
   "source": [
    "![header.png](resources/header.png)"
   ]
  },
  {
   "cell_type": "markdown",
   "id": "0d4c4126",
   "metadata": {
    "ExecuteTime": {
     "end_time": "2023-06-12T04:31:30.456065Z",
     "start_time": "2023-06-12T04:31:30.437061Z"
    }
   },
   "source": [
    "by: BJ Enrik Yepes"
   ]
  },
  {
   "cell_type": "markdown",
   "id": "54cb7bc4",
   "metadata": {},
   "source": [
    "Gaming has always been an integral part of my life, providing entertainment, escapism, and even valuable life lessons. The impact of gaming on my personal growth and development cannot be understated. From the humble beginnings of classic 8-bit NES games, where I first discovered the joy of gaming, to the immersive world of Pokémon on the portable Game Boy, and the revolutionary leap into the console era with the iconic PlayStation 2, each era has left an indelible mark on my gaming journey. I spent countless hours immersed in the vast virtual landscapes of browser-based MMORPGs like RuneScape, forging friendships and memories that still resonate with me today. And then there was Dota 2, the pinnacle of competitive gaming that captivated me with its strategic depth and electrifying gameplay."
   ]
  },
  {
   "cell_type": "markdown",
   "id": "86dd8cbd",
   "metadata": {},
   "source": [
    "<div style=\"display: flex; align-items: left;\">\n",
    "    <img src=\"\" style=\"display:inline-block; margin-right: 20px; height: 200px;\" />\n",
    "    <img src=\"resources/contra.gif\" style=\"display:inline-block; margin-right: 20px; height: 200px; width: 200px;\" />\n",
    "    <img src=\"resources/pokemon-ruby-pokemon-sapphire.gif\" style=\"display:inline-block; margin-right: 10px; height: 200px; width: 250px;\" />\n",
    "    <img src=\"resources/runescape-old-school-runescape.gif\" style=\"display:inline-block; margin-right: 10px; height: 200px; width: 250px;\" />\n",
    "    <img src=\"resources/san_andreas.gif\" style=\"display:inline-block; margin-right: 10px; height: 200px; width: 250px;\" />\n",
    "</div>\n",
    "\n"
   ]
  },
  {
   "cell_type": "markdown",
   "id": "d7f0cd8c",
   "metadata": {},
   "source": [
    "<center>From left to right: Contra (1987), Pokemon: Sapphire version (2002), Runescape (2007), GTA: San Andreas (2004)</center>"
   ]
  },
  {
   "cell_type": "markdown",
   "id": "6857cf40",
   "metadata": {},
   "source": [
    "However, as technology progresses, so does the gaming industry. One significant breakthrough that has reshaped the landscape is the integration of reinforcement learning. This cutting-edge approach has unlocked new possibilities and pushed the boundaries of what is achievable in gaming. It is a game-changer that allows machines to learn, adapt, and excel at games through their own experiences.\n",
    "\n",
    "In recent years, OpenAI, a leading artificial intelligence research organization, has harnessed the power of reinforcement learning to create game-playing bots that have surpassed even the most skilled human players in games like Dota 2. This groundbreaking achievement showcases the immense potential of reinforcement learning in revolutionizing the gaming landscape. [1, 4]"
   ]
  },
  {
   "attachments": {},
   "cell_type": "markdown",
   "id": "168152c4",
   "metadata": {},
   "source": [
    "![openai_dendi.png](resources/openai_dendi.png)\n",
    "\n",
    "\n",
    "<center> <b>Image Source:</b> <a href=https://www.esportstalk.com/news/openai-at-the-international-2019/>OpenAI at The International 2019</center>"
   ]
  },
  {
   "cell_type": "markdown",
   "id": "09bea431",
   "metadata": {},
   "source": [
    "However, as much as I am fascinated by the advancements in complex games like Dota 2, I wanted to take a step back and revisit the classic games that shaped my gaming journey. That's where Super Mario and NES games come into play. These timeless classics hold a special place in the hearts of many gaming enthusiasts, evoking a sense of nostalgia and bringing back memories of simpler times.\n",
    "\n",
    "In this blog post, we will dive into the captivating world of Super Mario Bros, exploring how reinforcement learning can be applied to this beloved title. By combining the familiarity of our childhood favorite with the cutting-edge techniques of reinforcement learning, we embark on a unique journey that bridges the gap between the past and the present. Join me as we discover the transformative power of reinforcement learning and witness how it breathes new life into the games that shaped our gaming passion."
   ]
  },
  {
   "cell_type": "markdown",
   "id": "e3b3c24e",
   "metadata": {},
   "source": [
    "# Reinforment Learning Explained!"
   ]
  },
  {
   "cell_type": "markdown",
   "id": "72fec58b",
   "metadata": {},
   "source": [
    "There have been several mentions of reinforcement learning already, but what exactly is it? Reinforcement learning is a branch of machine learning that involves training an agent to make sequential decisions based on trial and error. In simple terms, it's like teaching a computer program to learn from its own experiences and interactions with the environment, just like how we learn from rewards and consequences in our daily lives. [4]\n",
    "\n",
    "For example, imagine training an AI to play a game of Super Mario. The AI starts off knowing nothing about the game, but through trial and error, it learns which actions lead to rewards (collecting coins, avoiding enemies) and which actions lead to negative outcomes (losing lives, falling into pits). Over time, the AI becomes better at playing the game by maximizing its rewards and minimizing its mistakes."
   ]
  },
  {
   "attachments": {},
   "cell_type": "markdown",
   "id": "56deaf81",
   "metadata": {},
   "source": [
    "Here, Figure 1 illustrates the fundamental reinforcement learning cycle, which consists of the following steps [2]:\n",
    "\n",
    "1. **`Observation:`** The agent perceives the state of the environment through observations or sensory inputs.\n",
    "\n",
    "2. **`Action:`** Based on the observed state, the agent selects an action to take.\n",
    "\n",
    "3. **`Environment:`** The agent interacts with the environment by executing the chosen action.\n",
    "\n",
    "4. **`Reward:`** After performing the action, the agent receives a reward or feedback from the environment indicating the desirability of its action.\n",
    "\n",
    "5. **`Next State:`** The environment transitions to a new state as a result of the agent's action.\n",
    "\n",
    "6. **`Learning:`** The agent updates its knowledge or policy based on the observed state, action, reward, and the resulting next state.\n",
    "\n",
    "7. **`Iteration:`** The cycle repeats as the agent continues to observe, act, receive rewards, and learn from its interactions with the environment.\n",
    "\n",
    "![rl_cycle.png](resources/rl_cycle.png)\n",
    "\n",
    "<center>Figure 1. Reinforcement Learning Cycle</center>\n",
    "\n",
    "<center>Source: Shehab, Mohammad & Khader, Ahamad Tajudin & Alia, Mohammad. (2019). Enhancing Cuckoo Search Algorithm by using Reinforcement Learning for Constrained Engineering optimization Problems. 812-816. 10.1109/JEEIT.2019.8717366. </center>"
   ]
  },
  {
   "cell_type": "markdown",
   "id": "ba7f546d",
   "metadata": {},
   "source": [
    "# Terminology Alert!"
   ]
  },
  {
   "cell_type": "markdown",
   "id": "ca0d5318",
   "metadata": {},
   "source": [
    "Before diving into the code, let's familiarize ourselves with some key terminologies that will be used throughout this blog post [5]:\n",
    "\n",
    "- **`Agent:`** The entity that interacts with the environment. In our case, the agent is the AI or computer program that learns to play the game.\n",
    "\n",
    "- **`Environment:`** The virtual world or game in which the agent operates. It provides the agent with observations and receives actions from the agent.\n",
    "\n",
    "- **`State:`** The current representation of the environment that the agent observes. It contains information about the agent's position, objects in the game, and other relevant details.\n",
    "\n",
    "- **`Action:`** The decision or choice made by the agent in response to the observed state. It determines the agent's next move in the game.\n",
    "\n",
    "- **`Reward:`** The feedback or score received by the agent after taking an action. It serves as a measure of how well the agent is performing. Positive rewards are typically given for desirable actions, while negative rewards are given for undesirable actions.\n",
    "\n",
    "- **`Policy:`** The strategy or set of rules that the agent follows to select actions based on the observed state. It maps states to actions.\n",
    "\n",
    "- **`Episode:`** A complete sequence of interactions between the agent and the environment, starting from an initial state and ending in a terminal state or goal."
   ]
  },
  {
   "cell_type": "markdown",
   "id": "18c9b2eb",
   "metadata": {},
   "source": [
    "# Getting Started!"
   ]
  },
  {
   "cell_type": "markdown",
   "id": "4f1c37c9",
   "metadata": {},
   "source": [
    "## Library Installation"
   ]
  },
  {
   "cell_type": "markdown",
   "id": "92c8e526",
   "metadata": {},
   "source": [
    "To begin, we need to install two essential components: the Super Mario Bros environment from `gym` and `nes_py`. But why are these installations necessary?\n",
    "\n",
    "Think of `gym_super_mario_bros` as the game cartridge that brings the Super Mario Bros environment to life within the reinforcement learning context. It acts as a bridge that allows us to simulate and interact with the Super Mario Bros game seamlessly, all within the realm of our code. [8]\n",
    "\n",
    "Learn more about gym_super_mario_bros here: <a href=https://pypi.org/project/gym-super-mario-bros/>Super Mario Bros. for OpenAI Gym</a>\n",
    "\n",
    "On the other hand, `nes_py` can be seen as the actual console or emulator, along with the controller, that enables us to fully engage with NES (Nintendo Entertainment System) games. It provides a comprehensive set of tools and interfaces, allowing us to load and manipulate NES ROMs and effortlessly interact with the game environments. [9]\n",
    "\n",
    "Learn more about nes_py here: <a href=https://pypi.org/project/nes-py/>An NES Emulator and OpenAI Gym interface</a>"
   ]
  },
  {
   "cell_type": "code",
   "execution_count": null,
   "id": "aaad26c8",
   "metadata": {},
   "outputs": [],
   "source": [
    "!pip install gym_super_mario_bros==7.3.0 nes_py"
   ]
  },
  {
   "attachments": {},
   "cell_type": "markdown",
   "id": "32b02819",
   "metadata": {},
   "source": [
    "`gym_super_mario_bros` and `stable_baselines3` are both libraries that rely on PyTorch as one of their dependencies. When you install these libraries using pip or any package manager, PyTorch will be automatically installed as a dependency if it is not already present in your environment.\n",
    "\n",
    "However, it's important to note that PyTorch itself needs to be installed separately if you plan to fully utilize the power of GPU for accelerated training, we need to perform a custom installation of PyTorch. The default PyTorch installation from the libraries we are using today only includes the CPU version, which limits us to CPU as the compute platform.\n",
    "\n",
    "For the PyTorch installation, you can refer to the official PyTorch website at: <a href=https://pytorch.org/get-started/locally/>PyTorch Installation</a>. This link provides detailed instructions on how to install PyTorch locally.\n",
    "\n",
    "![pytorch_installation.png](resources/pytorch_installation.png)\n",
    "\n",
    "In my case, I required a stable PyTorch build for Windows OS, preferred to use Pip as the installer, utilized Python as the programming language, and currently had CUDA version 11.8 installed."
   ]
  },
  {
   "cell_type": "code",
   "execution_count": null,
   "id": "00f5f35d",
   "metadata": {},
   "outputs": [],
   "source": [
    "# Install pytorch\n",
    "!pip3 install torch torchvision torchaudio --index-url https://download.pytorch.org/whl/cu118"
   ]
  },
  {
   "cell_type": "markdown",
   "id": "97d7f33a",
   "metadata": {},
   "source": [
    "Lastly, we need to install `stable-baselines3[extra]` in order to use the Stable Baselines3 library, which provides high-level implementations of various reinforcement learning algorithms. This library extends the functionality of OpenAI Gym and makes it easier to train and evaluate RL agents."
   ]
  },
  {
   "cell_type": "code",
   "execution_count": null,
   "id": "ef34b781",
   "metadata": {},
   "outputs": [],
   "source": [
    "# Install stable baselines for RL stuff\n",
    "!pip install stable-baselines3[extra]"
   ]
  },
  {
   "cell_type": "markdown",
   "id": "6082c804",
   "metadata": {},
   "source": [
    "## Setting up the Environment"
   ]
  },
  {
   "cell_type": "markdown",
   "id": "9e613656",
   "metadata": {},
   "source": [
    "Let's set up our environment! By default, allowing our agent to play in the full Super Mario Bros environment is very much possible but it would be computationally expensive.\n",
    "\n",
    "Imagine the immense number of possible button combinations our agent could make — 256 to be exact! That's a lot of actions to process. Not to mention, the RGB layers would require significant computational resources.\n",
    "\n",
    "We are going to take a smarter approach to save computational power.\n",
    "\n",
    "**Reducing the Actions**\n",
    "- We have reduced the number of possible button combinations from 256 to just 7, making it easier for our agent to learn and make decisions.\n",
    "\n",
    "**Grayscale Gameplay**\n",
    "- Working with a single channel means we only need to process 33% of the original data from the environment, reducing the computational load significantly."
   ]
  },
  {
   "cell_type": "code",
   "execution_count": 3,
   "id": "e6defe6e",
   "metadata": {
    "ExecuteTime": {
     "end_time": "2023-06-12T04:15:26.094379Z",
     "start_time": "2023-06-12T04:15:26.068152Z"
    }
   },
   "outputs": [],
   "source": [
    "# Import super mario bros\n",
    "import gym_super_mario_bros\n",
    "\n",
    "# Import joypad wrapper\n",
    "from nes_py.wrappers import JoypadSpace\n",
    "\n",
    "# Import simplified controls\n",
    "from gym_super_mario_bros.actions import SIMPLE_MOVEMENT\n",
    "\n",
    "# Import Frame Stacker Wrapper and GrayScaling Wrapper\n",
    "from gym.wrappers import GrayScaleObservation"
   ]
  },
  {
   "cell_type": "code",
   "execution_count": 4,
   "id": "75f944a4",
   "metadata": {
    "ExecuteTime": {
     "end_time": "2023-06-12T04:15:27.493648Z",
     "start_time": "2023-06-12T04:15:27.204576Z"
    }
   },
   "outputs": [],
   "source": [
    "# 1. Create the base environment\n",
    "env = gym_super_mario_bros.make('SuperMarioBros-v0')\n",
    "\n",
    "# 2. Simplify the controls \n",
    "env = JoypadSpace(env, SIMPLE_MOVEMENT)\n",
    "\n",
    "# 3. Grayscale\n",
    "env = GrayScaleObservation(env, keep_dim=True)"
   ]
  },
  {
   "cell_type": "markdown",
   "id": "0e9649a6",
   "metadata": {},
   "source": [
    "Next, we take two important steps to enhance our environment: ensuring compatibility with Stable Baselines3 and providing our agent with a temporal understanding of the game.\n",
    "\n",
    "**Compatibility**\n",
    "- To seamlessly integrate our environment with the Stable Baselines3 library, we wrap it in a DummyVecEnv, enabling smooth compatibility with the required vectorized environment.\n",
    "\n",
    "**Temporal Understanding**\n",
    "- By stacking multiple consecutive frames, we empower our agent with a temporal understanding of the game, allowing it to perceive dynamic changes and motion. In this case, we stack 4 frames together."
   ]
  },
  {
   "cell_type": "code",
   "execution_count": 5,
   "id": "b6c09ff8",
   "metadata": {
    "ExecuteTime": {
     "end_time": "2023-06-12T04:15:32.937627Z",
     "start_time": "2023-06-12T04:15:32.923624Z"
    }
   },
   "outputs": [],
   "source": [
    "# Import Vectorization Wrappers\n",
    "from stable_baselines3.common.vec_env import VecFrameStack, DummyVecEnv"
   ]
  },
  {
   "cell_type": "code",
   "execution_count": 6,
   "id": "123a4c1f",
   "metadata": {
    "ExecuteTime": {
     "end_time": "2023-06-12T04:15:35.533620Z",
     "start_time": "2023-06-12T04:15:35.518616Z"
    }
   },
   "outputs": [],
   "source": [
    "# 4. Wrap inside the Dummy Environment\n",
    "env = DummyVecEnv([lambda: env])\n",
    "\n",
    "# 5. Stack the frames\n",
    "env = VecFrameStack(env, 4, channels_order='last')"
   ]
  },
  {
   "cell_type": "markdown",
   "id": "d4e40ed2",
   "metadata": {},
   "source": [
    "To provide a visual understanding of our grayscale environment stacked four times, take a look at this illustration. It showcases the temporal progression of Mario's actions, specifically his jumps, across a duration of four frames."
   ]
  },
  {
   "attachments": {},
   "cell_type": "markdown",
   "id": "b5b282a5",
   "metadata": {},
   "source": [
    "![temporal_progression.png](resources/temporal_progression.png)"
   ]
  },
  {
   "cell_type": "markdown",
   "id": "7a8545f0",
   "metadata": {},
   "source": [
    "# The Training Arc!"
   ]
  },
  {
   "cell_type": "markdown",
   "id": "47648539",
   "metadata": {},
   "source": [
    "Similar to gamers, our agent embarks on an intense training arc to improve its gaming skills. The key difference? The agent operates at accelerated speeds and can tackle multiple instances of the game simultaneously, granting it an unfair advantage.\n",
    "\n",
    "Now, let's delve into the training process. We have chosen the `Proximal Policy Optimization` (PPO) algorithm as our training strategy [3]. Think of PPO as the guiding principle that shapes our agent's learning journey."
   ]
  },
  {
   "cell_type": "code",
   "execution_count": 7,
   "id": "09e6def3",
   "metadata": {
    "ExecuteTime": {
     "end_time": "2023-06-12T04:15:38.941745Z",
     "start_time": "2023-06-12T04:15:38.926742Z"
    }
   },
   "outputs": [],
   "source": [
    "# Import PPO for algos\n",
    "from stable_baselines3 import PPO"
   ]
  },
  {
   "cell_type": "markdown",
   "id": "bbf32915",
   "metadata": {},
   "source": [
    "## Selecting the Algorithm"
   ]
  },
  {
   "cell_type": "markdown",
   "id": "ab40ef56",
   "metadata": {},
   "source": [
    "We have opted for the `CnnPolicy` as our chosen policy for the PPO algorithm. The CnnPolicy utilizes a convolutional neural network architecture, which is well-suited for processing visual input from the game environment.\n",
    "\n",
    "You can think of the \"CnnPolicy\" in PPO as the playbook or strategy that the agent follows during the game. Just like in sports, where teams have different playbooks or strategies tailored to their strengths and the game conditions, the \"CnnPolicy\" serves as the specific game plan for our agent in the context of reinforcement learning. It outlines how the agent should process and interpret visual input from the game environment using convolutional neural networks, allowing it to make informed decisions and take appropriate actions.\n",
    "\n",
    "**Learning Rate**\n",
    "- To control the learning process, we have set a learning rate of 1e-5. A lower learning rate implies slower but more precise updates to the model's parameters, while a higher learning rate may lead to faster updates but potentially overshooting optimal solutions.\n",
    "\n",
    "**Number of Steps**\n",
    "- The n_steps parameter, set to 512 in our case, determines the number of steps taken in each iteration of the training process. It influences the trade-off between exploration and exploitation in reinforcement learning. A larger value allows for more exploration but increases the computational cost."
   ]
  },
  {
   "cell_type": "code",
   "execution_count": 9,
   "id": "c2f351cf",
   "metadata": {
    "ExecuteTime": {
     "end_time": "2023-06-12T04:16:04.145161Z",
     "start_time": "2023-06-12T04:16:02.618817Z"
    }
   },
   "outputs": [
    {
     "name": "stdout",
     "output_type": "stream",
     "text": [
      "Using cuda device\n",
      "Wrapping the env in a VecTransposeImage.\n"
     ]
    }
   ],
   "source": [
    "# This is the AI model\n",
    "model = PPO('CnnPolicy', env, verbose=1, learning_rate=1e-5, \n",
    "            n_steps=512) "
   ]
  },
  {
   "cell_type": "markdown",
   "id": "70f5443d",
   "metadata": {},
   "source": [
    "## Model Training"
   ]
  },
  {
   "cell_type": "markdown",
   "id": "f31acd7e",
   "metadata": {},
   "source": [
    "Now let's dive into the actual training process. Training in this context refers to the iterative process of optimizing our model's parameters based on interactions with the environment to improve its performance.\n",
    "\n",
    "In this case, we will set a total of 10,000 timesteps as the training duration. During these timesteps, our agent will actively explore and learn from its interactions with the environment, gradually improving its gameplay skills and decision-making abilities."
   ]
  },
  {
   "cell_type": "code",
   "execution_count": 10,
   "id": "91730d18",
   "metadata": {
    "ExecuteTime": {
     "end_time": "2023-06-12T04:18:54.675881Z",
     "start_time": "2023-06-12T04:16:12.287996Z"
    }
   },
   "outputs": [
    {
     "name": "stderr",
     "output_type": "stream",
     "text": [
      "C:\\Users\\Stellar\\mambaforge\\envs\\nlp\\lib\\site-packages\\gym_super_mario_bros\\smb_env.py:148: RuntimeWarning: overflow encountered in ubyte_scalars\n",
      "  return (self.ram[0x86] - self.ram[0x071c]) % 256\n"
     ]
    },
    {
     "name": "stdout",
     "output_type": "stream",
     "text": [
      "----------------------------\n",
      "| time/              |     |\n",
      "|    fps             | 63  |\n",
      "|    iterations      | 1   |\n",
      "|    time_elapsed    | 8   |\n",
      "|    total_timesteps | 512 |\n",
      "----------------------------\n",
      "------------------------------------------\n",
      "| time/                   |              |\n",
      "|    fps                  | 60           |\n",
      "|    iterations           | 2            |\n",
      "|    time_elapsed         | 16           |\n",
      "|    total_timesteps      | 1024         |\n",
      "| train/                  |              |\n",
      "|    approx_kl            | 0.0067711715 |\n",
      "|    clip_fraction        | 0.0416       |\n",
      "|    clip_range           | 0.2          |\n",
      "|    entropy_loss         | -1.94        |\n",
      "|    explained_variance   | 0.000533     |\n",
      "|    learning_rate        | 1e-05        |\n",
      "|    loss                 | 156          |\n",
      "|    n_updates            | 10           |\n",
      "|    policy_gradient_loss | -0.00741     |\n",
      "|    value_loss           | 425          |\n",
      "------------------------------------------\n",
      "-----------------------------------------\n",
      "| time/                   |             |\n",
      "|    fps                  | 61          |\n",
      "|    iterations           | 3           |\n",
      "|    time_elapsed         | 24          |\n",
      "|    total_timesteps      | 1536        |\n",
      "| train/                  |             |\n",
      "|    approx_kl            | 0.012825324 |\n",
      "|    clip_fraction        | 0.0459      |\n",
      "|    clip_range           | 0.2         |\n",
      "|    entropy_loss         | -1.94       |\n",
      "|    explained_variance   | 0.663       |\n",
      "|    learning_rate        | 1e-05       |\n",
      "|    loss                 | 0.205       |\n",
      "|    n_updates            | 20          |\n",
      "|    policy_gradient_loss | -0.00957    |\n",
      "|    value_loss           | 3.57        |\n",
      "-----------------------------------------\n",
      "------------------------------------------\n",
      "| time/                   |              |\n",
      "|    fps                  | 62           |\n",
      "|    iterations           | 4            |\n",
      "|    time_elapsed         | 33           |\n",
      "|    total_timesteps      | 2048         |\n",
      "| train/                  |              |\n",
      "|    approx_kl            | 0.0032713115 |\n",
      "|    clip_fraction        | 0            |\n",
      "|    clip_range           | 0.2          |\n",
      "|    entropy_loss         | -1.93        |\n",
      "|    explained_variance   | -0.104       |\n",
      "|    learning_rate        | 1e-05        |\n",
      "|    loss                 | 0.247        |\n",
      "|    n_updates            | 30           |\n",
      "|    policy_gradient_loss | -0.0022      |\n",
      "|    value_loss           | 2.05         |\n",
      "------------------------------------------\n",
      "------------------------------------------\n",
      "| time/                   |              |\n",
      "|    fps                  | 62           |\n",
      "|    iterations           | 5            |\n",
      "|    time_elapsed         | 40           |\n",
      "|    total_timesteps      | 2560         |\n",
      "| train/                  |              |\n",
      "|    approx_kl            | 0.0030697347 |\n",
      "|    clip_fraction        | 0            |\n",
      "|    clip_range           | 0.2          |\n",
      "|    entropy_loss         | -1.92        |\n",
      "|    explained_variance   | 0.19         |\n",
      "|    learning_rate        | 1e-05        |\n",
      "|    loss                 | 0.162        |\n",
      "|    n_updates            | 40           |\n",
      "|    policy_gradient_loss | -0.00248     |\n",
      "|    value_loss           | 1.09         |\n",
      "------------------------------------------\n",
      "------------------------------------------\n",
      "| time/                   |              |\n",
      "|    fps                  | 63           |\n",
      "|    iterations           | 6            |\n",
      "|    time_elapsed         | 48           |\n",
      "|    total_timesteps      | 3072         |\n",
      "| train/                  |              |\n",
      "|    approx_kl            | 0.0028998037 |\n",
      "|    clip_fraction        | 0            |\n",
      "|    clip_range           | 0.2          |\n",
      "|    entropy_loss         | -1.93        |\n",
      "|    explained_variance   | 0.0382       |\n",
      "|    learning_rate        | 1e-05        |\n",
      "|    loss                 | 0.0972       |\n",
      "|    n_updates            | 50           |\n",
      "|    policy_gradient_loss | -0.00107     |\n",
      "|    value_loss           | 0.806        |\n",
      "------------------------------------------\n",
      "------------------------------------------\n",
      "| time/                   |              |\n",
      "|    fps                  | 63           |\n",
      "|    iterations           | 7            |\n",
      "|    time_elapsed         | 56           |\n",
      "|    total_timesteps      | 3584         |\n",
      "| train/                  |              |\n",
      "|    approx_kl            | 0.0019584578 |\n",
      "|    clip_fraction        | 0            |\n",
      "|    clip_range           | 0.2          |\n",
      "|    entropy_loss         | -1.92        |\n",
      "|    explained_variance   | -0.046       |\n",
      "|    learning_rate        | 1e-05        |\n",
      "|    loss                 | 0.0666       |\n",
      "|    n_updates            | 60           |\n",
      "|    policy_gradient_loss | -0.0014      |\n",
      "|    value_loss           | 0.712        |\n",
      "------------------------------------------\n",
      "-----------------------------------------\n",
      "| time/                   |             |\n",
      "|    fps                  | 63          |\n",
      "|    iterations           | 8           |\n",
      "|    time_elapsed         | 64          |\n",
      "|    total_timesteps      | 4096        |\n",
      "| train/                  |             |\n",
      "|    approx_kl            | 0.001788438 |\n",
      "|    clip_fraction        | 0           |\n",
      "|    clip_range           | 0.2         |\n",
      "|    entropy_loss         | -1.92       |\n",
      "|    explained_variance   | -0.0812     |\n",
      "|    learning_rate        | 1e-05       |\n",
      "|    loss                 | 0.0999      |\n",
      "|    n_updates            | 70          |\n",
      "|    policy_gradient_loss | -0.000417   |\n",
      "|    value_loss           | 0.545       |\n",
      "-----------------------------------------\n",
      "------------------------------------------\n",
      "| time/                   |              |\n",
      "|    fps                  | 63           |\n",
      "|    iterations           | 9            |\n",
      "|    time_elapsed         | 72           |\n",
      "|    total_timesteps      | 4608         |\n",
      "| train/                  |              |\n",
      "|    approx_kl            | 0.0033264707 |\n",
      "|    clip_fraction        | 0            |\n",
      "|    clip_range           | 0.2          |\n",
      "|    entropy_loss         | -1.91        |\n",
      "|    explained_variance   | -0.04        |\n",
      "|    learning_rate        | 1e-05        |\n",
      "|    loss                 | 0.083        |\n",
      "|    n_updates            | 80           |\n",
      "|    policy_gradient_loss | -0.000945    |\n",
      "|    value_loss           | 0.449        |\n",
      "------------------------------------------\n",
      "------------------------------------------\n",
      "| time/                   |              |\n",
      "|    fps                  | 63           |\n",
      "|    iterations           | 10           |\n",
      "|    time_elapsed         | 80           |\n",
      "|    total_timesteps      | 5120         |\n",
      "| train/                  |              |\n",
      "|    approx_kl            | 0.0007790753 |\n",
      "|    clip_fraction        | 0            |\n",
      "|    clip_range           | 0.2          |\n",
      "|    entropy_loss         | -1.89        |\n",
      "|    explained_variance   | 0.0988       |\n",
      "|    learning_rate        | 1e-05        |\n",
      "|    loss                 | 0.129        |\n",
      "|    n_updates            | 90           |\n",
      "|    policy_gradient_loss | -0.000786    |\n",
      "|    value_loss           | 0.327        |\n",
      "------------------------------------------\n",
      "-----------------------------------------\n",
      "| time/                   |             |\n",
      "|    fps                  | 64          |\n",
      "|    iterations           | 11          |\n",
      "|    time_elapsed         | 87          |\n",
      "|    total_timesteps      | 5632        |\n",
      "| train/                  |             |\n",
      "|    approx_kl            | 0.005427646 |\n",
      "|    clip_fraction        | 0           |\n",
      "|    clip_range           | 0.2         |\n",
      "|    entropy_loss         | -1.91       |\n",
      "|    explained_variance   | 0.00718     |\n",
      "|    learning_rate        | 1e-05       |\n",
      "|    loss                 | 0.0855      |\n",
      "|    n_updates            | 100         |\n",
      "|    policy_gradient_loss | -0.00424    |\n",
      "|    value_loss           | 0.343       |\n",
      "-----------------------------------------\n",
      "-----------------------------------------\n",
      "| time/                   |             |\n",
      "|    fps                  | 64          |\n",
      "|    iterations           | 12          |\n",
      "|    time_elapsed         | 95          |\n",
      "|    total_timesteps      | 6144        |\n",
      "| train/                  |             |\n",
      "|    approx_kl            | 0.013949446 |\n",
      "|    clip_fraction        | 0.0518      |\n",
      "|    clip_range           | 0.2         |\n",
      "|    entropy_loss         | -1.91       |\n",
      "|    explained_variance   | -0.00593    |\n",
      "|    learning_rate        | 1e-05       |\n",
      "|    loss                 | 0.0841      |\n",
      "|    n_updates            | 110         |\n",
      "|    policy_gradient_loss | -0.00794    |\n",
      "|    value_loss           | 0.235       |\n",
      "-----------------------------------------\n"
     ]
    },
    {
     "name": "stdout",
     "output_type": "stream",
     "text": [
      "------------------------------------------\n",
      "| time/                   |              |\n",
      "|    fps                  | 64           |\n",
      "|    iterations           | 13           |\n",
      "|    time_elapsed         | 103          |\n",
      "|    total_timesteps      | 6656         |\n",
      "| train/                  |              |\n",
      "|    approx_kl            | 0.0008680193 |\n",
      "|    clip_fraction        | 0.00332      |\n",
      "|    clip_range           | 0.2          |\n",
      "|    entropy_loss         | -1.89        |\n",
      "|    explained_variance   | -0.00568     |\n",
      "|    learning_rate        | 1e-05        |\n",
      "|    loss                 | 0.0709       |\n",
      "|    n_updates            | 120          |\n",
      "|    policy_gradient_loss | 0.00136      |\n",
      "|    value_loss           | 0.237        |\n",
      "------------------------------------------\n",
      "-----------------------------------------\n",
      "| time/                   |             |\n",
      "|    fps                  | 64          |\n",
      "|    iterations           | 14          |\n",
      "|    time_elapsed         | 111         |\n",
      "|    total_timesteps      | 7168        |\n",
      "| train/                  |             |\n",
      "|    approx_kl            | 0.004216737 |\n",
      "|    clip_fraction        | 0.00918     |\n",
      "|    clip_range           | 0.2         |\n",
      "|    entropy_loss         | -1.9        |\n",
      "|    explained_variance   | 0.00112     |\n",
      "|    learning_rate        | 1e-05       |\n",
      "|    loss                 | 0.0824      |\n",
      "|    n_updates            | 130         |\n",
      "|    policy_gradient_loss | -0.00241    |\n",
      "|    value_loss           | 0.209       |\n",
      "-----------------------------------------\n",
      "-----------------------------------------\n",
      "| time/                   |             |\n",
      "|    fps                  | 64          |\n",
      "|    iterations           | 15          |\n",
      "|    time_elapsed         | 118         |\n",
      "|    total_timesteps      | 7680        |\n",
      "| train/                  |             |\n",
      "|    approx_kl            | 0.007423834 |\n",
      "|    clip_fraction        | 0.0121      |\n",
      "|    clip_range           | 0.2         |\n",
      "|    entropy_loss         | -1.9        |\n",
      "|    explained_variance   | 0.000339    |\n",
      "|    learning_rate        | 1e-05       |\n",
      "|    loss                 | 0.0723      |\n",
      "|    n_updates            | 140         |\n",
      "|    policy_gradient_loss | -0.00603    |\n",
      "|    value_loss           | 0.238       |\n",
      "-----------------------------------------\n",
      "-----------------------------------------\n",
      "| time/                   |             |\n",
      "|    fps                  | 64          |\n",
      "|    iterations           | 16          |\n",
      "|    time_elapsed         | 126         |\n",
      "|    total_timesteps      | 8192        |\n",
      "| train/                  |             |\n",
      "|    approx_kl            | 0.005285054 |\n",
      "|    clip_fraction        | 0           |\n",
      "|    clip_range           | 0.2         |\n",
      "|    entropy_loss         | -1.85       |\n",
      "|    explained_variance   | 0.000817    |\n",
      "|    learning_rate        | 1e-05       |\n",
      "|    loss                 | 0.0856      |\n",
      "|    n_updates            | 150         |\n",
      "|    policy_gradient_loss | -0.00344    |\n",
      "|    value_loss           | 0.188       |\n",
      "-----------------------------------------\n",
      "-----------------------------------------\n",
      "| time/                   |             |\n",
      "|    fps                  | 64          |\n",
      "|    iterations           | 17          |\n",
      "|    time_elapsed         | 134         |\n",
      "|    total_timesteps      | 8704        |\n",
      "| train/                  |             |\n",
      "|    approx_kl            | 0.057824735 |\n",
      "|    clip_fraction        | 0.28        |\n",
      "|    clip_range           | 0.2         |\n",
      "|    entropy_loss         | -1.74       |\n",
      "|    explained_variance   | 0.00433     |\n",
      "|    learning_rate        | 1e-05       |\n",
      "|    loss                 | 140         |\n",
      "|    n_updates            | 160         |\n",
      "|    policy_gradient_loss | 0.0179      |\n",
      "|    value_loss           | 414         |\n",
      "-----------------------------------------\n",
      "------------------------------------------\n",
      "| time/                   |              |\n",
      "|    fps                  | 64           |\n",
      "|    iterations           | 18           |\n",
      "|    time_elapsed         | 141          |\n",
      "|    total_timesteps      | 9216         |\n",
      "| train/                  |              |\n",
      "|    approx_kl            | 0.0027298238 |\n",
      "|    clip_fraction        | 0            |\n",
      "|    clip_range           | 0.2          |\n",
      "|    entropy_loss         | -1.71        |\n",
      "|    explained_variance   | 0.0106       |\n",
      "|    learning_rate        | 1e-05        |\n",
      "|    loss                 | 23.9         |\n",
      "|    n_updates            | 170          |\n",
      "|    policy_gradient_loss | -0.000897    |\n",
      "|    value_loss           | 45.5         |\n",
      "------------------------------------------\n",
      "----------------------------------------\n",
      "| time/                   |            |\n",
      "|    fps                  | 65         |\n",
      "|    iterations           | 19         |\n",
      "|    time_elapsed         | 149        |\n",
      "|    total_timesteps      | 9728       |\n",
      "| train/                  |            |\n",
      "|    approx_kl            | 0.02091333 |\n",
      "|    clip_fraction        | 0.25       |\n",
      "|    clip_range           | 0.2        |\n",
      "|    entropy_loss         | -1.51      |\n",
      "|    explained_variance   | 0.0455     |\n",
      "|    learning_rate        | 1e-05      |\n",
      "|    loss                 | 117        |\n",
      "|    n_updates            | 180        |\n",
      "|    policy_gradient_loss | 0.0146     |\n",
      "|    value_loss           | 342        |\n",
      "----------------------------------------\n",
      "----------------------------------------\n",
      "| time/                   |            |\n",
      "|    fps                  | 65         |\n",
      "|    iterations           | 20         |\n",
      "|    time_elapsed         | 157        |\n",
      "|    total_timesteps      | 10240      |\n",
      "| train/                  |            |\n",
      "|    approx_kl            | 0.01459413 |\n",
      "|    clip_fraction        | 0.102      |\n",
      "|    clip_range           | 0.2        |\n",
      "|    entropy_loss         | -1.56      |\n",
      "|    explained_variance   | 0.119      |\n",
      "|    learning_rate        | 1e-05      |\n",
      "|    loss                 | 33.3       |\n",
      "|    n_updates            | 190        |\n",
      "|    policy_gradient_loss | -0.0158    |\n",
      "|    value_loss           | 82.7       |\n",
      "----------------------------------------\n"
     ]
    },
    {
     "data": {
      "text/plain": [
       "<stable_baselines3.ppo.ppo.PPO at 0x1f0633751e0>"
      ]
     },
     "execution_count": 10,
     "metadata": {},
     "output_type": "execute_result"
    }
   ],
   "source": [
    "# Train the AI model, this is where the AI model starts to learn\n",
    "model.learn(total_timesteps=10000)"
   ]
  },
  {
   "cell_type": "markdown",
   "id": "2e996757",
   "metadata": {},
   "source": [
    "# Game Time!"
   ]
  },
  {
   "cell_type": "markdown",
   "id": "36c0de15",
   "metadata": {},
   "source": [
    "Our agent has completed its training phase, and now it's time to evaluate how much it has learned. We can truly witness its progress by observing its gameplay in action as it tackles the challenges of Super Mario Bros. Let's sit back and enjoy watching our agent showcase its newfound skills."
   ]
  },
  {
   "cell_type": "code",
   "execution_count": 12,
   "id": "b762f4d7",
   "metadata": {
    "ExecuteTime": {
     "end_time": "2023-06-12T04:19:58.345184Z",
     "start_time": "2023-06-12T04:19:58.333181Z"
    }
   },
   "outputs": [],
   "source": [
    "# Start the game \n",
    "state = env.reset()\n",
    "# Loop through the game\n",
    "while True: \n",
    "    \n",
    "    action, _ = model.predict(state)\n",
    "    state, reward, done, info = env.step(action)\n",
    "    env.render()"
   ]
  },
  {
   "cell_type": "markdown",
   "id": "4527c69c",
   "metadata": {},
   "source": [
    "Here, we present a series of gameplay videos showcasing the agent's performance at different stages of training: random movement, as well as trained models at 10,000, 100,000, 1 million, 4 million, 5 million, and 9 million timesteps.\n",
    "\n",
    "During the experimentation with different hyperparameters, it became apparent that a necessary adjustment was required for the model. The learning rate of 1e-5 was deemed too high, impacting the agent's performance. Lower learning rates, such as 1e-6 or 1e-7, yielded better results. For instance, when trained with a learning rate of 1e-6, the supermario agent managed to clear world 1-1 within just 4 million timesteps. The expectation of achieving the same result with a learning rate of 1e-5 proved unsuccessful.\n",
    "\n",
    "Furthermore, increasing the number of timesteps did not lead to convergence to a desirable local minimum when combined with higher learning rates. These findings highlight the significance of fine-tuning hyperparameters to optimize the agent's learning process and overall performance."
   ]
  },
  {
   "cell_type": "markdown",
   "id": "d6f89f0c",
   "metadata": {},
   "source": [
    "<center><video controls src=\"mario_gameplay.mp4\" width=\"960\" height=\"540\" /></center>"
   ]
  },
  {
   "cell_type": "markdown",
   "id": "544efb98",
   "metadata": {},
   "source": [
    "# Final Thoughts"
   ]
  },
  {
   "cell_type": "markdown",
   "id": "c0ef3306",
   "metadata": {},
   "source": [
    "That was a simple and elegant demonstration of reinforcement learning in action, showcasing the power of abstraction and automation. By utilizing libraries like Stable Baselines3 and Gym Super Mario Bros, we were able to implement RL without explicitly coding complex functions.\n",
    "\n",
    "While this implementation focused on the Super Mario environment, the potential for further extension and customization is vast. By incorporating automatic model saving, increasing training steps, customizing reward systems, adjusting learning rates and step sizes, and more, we can create more sophisticated and specialized AI agents.\n",
    "\n",
    "This comprehensive backbone implementation of reinforcement learning using the Super Mario environment serves as a gateway into the realm of RL. Whether you're a gamer or an AI enthusiast, the possibilities are endless. Perhaps we can even explore the realm of speedrunner AI, inspired by OpenAI's feat of defeating professional players in Dota 2. The realm of AI offers boundless opportunities for exploration and exploitation."
   ]
  },
  {
   "cell_type": "markdown",
   "id": "d6327cd5",
   "metadata": {},
   "source": [
    "If you're interested in a more in-depth technical report-style code, detailing an extended version of this implementation, feel free to visit my GitHub repository through this link:\n",
    "\n",
    "https://github.com/BJEnrik/super_mario_RL/tree/main"
   ]
  },
  {
   "cell_type": "markdown",
   "id": "82c79d2a",
   "metadata": {},
   "source": [
    "# References"
   ]
  },
  {
   "cell_type": "markdown",
   "id": "87cbaef5",
   "metadata": {},
   "source": [
    "**Original Papers**\n",
    "\n",
    "[1] Berner, C., Brockman, G., Chan, B., et.al (2019). Dota 2 with Large Scale Deep Reinforcement Learning. OpenAI. Retrieved from https://cdn.openai.com/dota-2.pdf\n",
    "\n",
    "[2] Shehab, Mohammad & Khader, Ahamad Tajudin & Alia, Mohammad. (2019). Enhancing Cuckoo Search Algorithm by using Reinforcement Learning for Constrained Engineering optimization Problems. 812-816. 10.1109/JEEIT.2019.8717366. Retrieved from https://www.researchgate.net/publication/333228448_Enhancing_Cuckoo_Search_Algorithm_by_using_Reinforcement_Learning_for_Constrained_Engineering_optimization_Problems\n",
    "\n",
    "[3] Schulman, J., Wolski, F., Dhariwal, P., Radford, A., Klimov, O. Proximal Policy Optimization Algorithms. Retrieved from https://arxiv.org/abs/1707.06347\n",
    "\n",
    "</br>\n",
    "\n",
    "**Articles**\n",
    "\n",
    "[4] Muresan, R. (2019). OpenAI at The International 2019. EsportsTalk. Retrieved from https://www.esportstalk.com/news/openai-at-the-international-2019/\n",
    "\n",
    "[5] Joby, A. (2021). Reinforcement Learning: How Machines Learn From Their Mistakes. G2 Business Software Reviews. Retrieved from https://www.g2.com/articles/reinforcement-learning\n",
    "\n",
    "\n",
    "</br>\n",
    "\n",
    "**Tutorials and Documentations**\n",
    "\n",
    "[6] Feng, Y., Subramanian, S., Wang, H., Guo, S. (n.d.). TRAIN A MARIO-PLAYING RL AGENT. PyTorch Tutorials. Retrieved from https://pytorch.org/tutorials/intermediate/mario_rl_tutorial.html\n",
    "\n",
    "[7] Renotte, N. (2021). Mario RL. Retrieved from https://github.com/nicknochnack/MarioRL\n",
    "\n",
    "[8] gym-super-mario-bros 7.4.0. (2022). The Python Package Index. Retrieved from https://pypi.org/project/gym-super-mario-bros/\n",
    "\n",
    "[9] nes-py 8.2.1 (2022). The Python Package Index. Retrieved from https://pypi.org/project/nes-py/\n",
    "\n",
    "[10] Stable Baselines3. (n.d.) Proximal Policy Optimization. Retrieved from https://stable-baselines3.readthedocs.io/en/master/modules/ppo.html"
   ]
  },
  {
   "cell_type": "code",
   "execution_count": null,
   "id": "03d7d74e",
   "metadata": {},
   "outputs": [],
   "source": []
  }
 ],
 "metadata": {
  "kernelspec": {
   "display_name": "Python 3 (ipykernel)",
   "language": "python",
   "name": "python3"
  },
  "language_info": {
   "codemirror_mode": {
    "name": "ipython",
    "version": 3
   },
   "file_extension": ".py",
   "mimetype": "text/x-python",
   "name": "python",
   "nbconvert_exporter": "python",
   "pygments_lexer": "ipython3",
   "version": "3.9.13"
  },
  "toc": {
   "base_numbering": 1,
   "nav_menu": {},
   "number_sections": false,
   "sideBar": true,
   "skip_h1_title": false,
   "title_cell": "Table of Contents",
   "title_sidebar": "Contents",
   "toc_cell": false,
   "toc_position": {},
   "toc_section_display": true,
   "toc_window_display": false
  }
 },
 "nbformat": 4,
 "nbformat_minor": 5
}
